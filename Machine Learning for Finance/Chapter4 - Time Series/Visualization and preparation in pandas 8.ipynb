{
 "cells": [
  {
   "cell_type": "code",
   "execution_count": null,
   "metadata": {
    "collapsed": true
   },
   "outputs": [],
   "source": [
    "import pandas as pd\n",
    "\n",
    "train = pd.read_csv('train_1.csv').fillna(0)\n",
    "print(train.head())\n",
    "\n",
    "def parse_page(page):\n",
    "    x = page.split('_') # split the string by underscore.\n",
    "    return ''.join(x[:-3]), x[-3], x[-2], x[-1]\n",
    "\n",
    "\n",
    "print(parse_page(train.Page[0]))\n",
    "\n",
    "\n",
    "l = list(train.Page.apply(parse_page))\n",
    "df = pd.DataFrame(l)\n",
    "df.columns = ['Subject', 'Sub_Page', 'Access', 'Agent']\n",
    "\n",
    "train = pd.concat([train, df], axis=1)\n",
    "del train['Page']\n",
    "\n",
    "train.Sub_Page.value_counts().plot(kind='bar')\n"
   ]
  }
 ],
 "metadata": {
  "kernelspec": {
   "display_name": "Python 3",
   "language": "python",
   "name": "python3"
  },
  "language_info": {
   "codemirror_mode": {
    "name": "ipython",
    "version": 2
   },
   "file_extension": ".py",
   "mimetype": "text/x-python",
   "name": "python",
   "nbconvert_exporter": "python",
   "pygments_lexer": "ipython2",
   "version": "2.7.6"
  }
 },
 "nbformat": 4,
 "nbformat_minor": 0
}