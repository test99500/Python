{
 "cells": [
  {
   "cell_type": "code",
   "execution_count": 1,
   "metadata": {
    "collapsed": true
   },
   "outputs": [
    {
     "name": "stdout",
     "output_type": "stream",
     "text": [
      "                  Open        High         Low       Close   Adj Close  \\\n",
      "Date                                                                     \n",
      "1986-03-13    0.088542    0.101563    0.088542    0.097222    0.062205   \n",
      "1986-03-14    0.097222    0.102431    0.097222    0.100694    0.064427   \n",
      "1986-03-17    0.100694    0.103299    0.100694    0.102431    0.065537   \n",
      "1986-03-18    0.102431    0.103299    0.098958    0.099826    0.063871   \n",
      "1986-03-19    0.099826    0.100694    0.097222    0.098090    0.062760   \n",
      "...                ...         ...         ...         ...         ...   \n",
      "2020-05-20  184.809998  185.850006  183.940002  185.660004  185.660004   \n",
      "2020-05-21  185.399994  186.669998  183.289993  183.429993  183.429993   \n",
      "2020-05-22  183.190002  184.460007  182.539993  183.509995  183.509995   \n",
      "2020-05-26  186.339996  186.500000  181.100006  181.570007  181.570007   \n",
      "2020-05-27  180.199997  181.990005  176.600006  181.809998  181.809998   \n",
      "\n",
      "                Volume  \n",
      "Date                    \n",
      "1986-03-13  1031788800  \n",
      "1986-03-14   308160000  \n",
      "1986-03-17   133171200  \n",
      "1986-03-18    67766400  \n",
      "1986-03-19    47894400  \n",
      "...                ...  \n",
      "2020-05-20    31261300  \n",
      "2020-05-21    29119500  \n",
      "2020-05-22    20826900  \n",
      "2020-05-26    36073600  \n",
      "2020-05-27    39492600  \n",
      "\n",
      "[8622 rows x 6 columns]\n"
     ]
    }
   ],
   "source": [
    "import pandas as pd\n",
    "\n",
    "pd.options.plotting.backend = 'plotly'\n",
    "\n",
    "url = 'https://raw.githubusercontent.com/fzumstein/python-for-excel/1st-edition/csv/MSFT.csv'\n",
    "microsoft = pd.read_csv(url, parse_dates=['Date'], index_col=['Date'])\n",
    "print(microsoft)"
   ]
  }
 ],
 "metadata": {
  "kernelspec": {
   "display_name": "Python 3",
   "language": "python",
   "name": "python3"
  },
  "language_info": {
   "codemirror_mode": {
    "name": "ipython",
    "version": 2
   },
   "file_extension": ".py",
   "mimetype": "text/x-python",
   "name": "python",
   "nbconvert_exporter": "python",
   "pygments_lexer": "ipython2",
   "version": "2.7.6"
  }
 },
 "nbformat": 4,
 "nbformat_minor": 0
}