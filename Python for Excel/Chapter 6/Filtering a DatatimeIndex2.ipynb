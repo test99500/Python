{
 "cells": [
  {
   "cell_type": "code",
   "execution_count": null,
   "metadata": {
    "collapsed": true
   },
   "outputs": [],
   "source": [
    "import pandas as pd\n",
    "\n",
    "pd.options.plotting.backend = 'plotly'\n",
    "\n",
    "url = 'https://raw.githubusercontent.com/fzumstein/python-for-excel/1st-edition/csv/MSFT.csv'\n",
    "microsoft = pd.read_csv(url, parse_dates=['Date'], index_col=['Date'])\n",
    "print(microsoft)\n",
    "print(microsoft.info())\n",
    "print(microsoft.describe())\n",
    "\n",
    "microsoft = microsoft.sort_index()\n",
    "print(microsoft)\n",
    "\n",
    "rows_from2019 = microsoft.loc['2019', 'Adj Close']\n",
    "print(rows_from2019)\n",
    "\n",
    "# Plot the data between June 2019 and May 2020\n",
    "rows2020_2019 = microsoft.loc['2019-06':'2020-05', 'Adj Close']\n",
    "print(rows2020_2019)\n",
    "\n",
    "rows2020_2019.plot()\n"
   ]
  }
 ],
 "metadata": {
  "kernelspec": {
   "display_name": "Python 3",
   "language": "python",
   "name": "python3"
  },
  "language_info": {
   "codemirror_mode": {
    "name": "ipython",
    "version": 2
   },
   "file_extension": ".py",
   "mimetype": "text/x-python",
   "name": "python",
   "nbconvert_exporter": "python",
   "pygments_lexer": "ipython2",
   "version": "2.7.6"
  }
 },
 "nbformat": 4,
 "nbformat_minor": 0
}