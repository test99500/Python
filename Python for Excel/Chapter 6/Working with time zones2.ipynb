{
 "cells": [
  {
   "cell_type": "code",
   "execution_count": null,
   "metadata": {
    "collapsed": true
   },
   "outputs": [],
   "source": [
    "import pandas as pd\n",
    "\n",
    "pd.options.plotting.backend = 'plotly'\n",
    "\n",
    "url = 'https://raw.githubusercontent.com/fzumstein/python-for-excel/1st-edition/csv/MSFT.csv'\n",
    "microsoft = pd.read_csv(url, parse_dates=['Date'], index_col=['Date'])\n",
    "print(microsoft)\n",
    "\n",
    "microsoft_close = microsoft.loc[:, \"Adj Close\"]\n",
    "print(microsoft_close)\n",
    "\n",
    "microsoft_close2 = microsoft.loc[:, [\"Adj Close\"]]\n",
    "print(microsoft_close2)\n",
    "\n",
    "msft_close = microsoft.loc[:, [\"Adj Close\"]]"
   ]
  }
 ],
 "metadata": {
  "kernelspec": {
   "display_name": "Python 3",
   "language": "python",
   "name": "python3"
  },
  "language_info": {
   "codemirror_mode": {
    "name": "ipython",
    "version": 2
   },
   "file_extension": ".py",
   "mimetype": "text/x-python",
   "name": "python",
   "nbconvert_exporter": "python",
   "pygments_lexer": "ipython2",
   "version": "2.7.6"
  }
 },
 "nbformat": 4,
 "nbformat_minor": 0
}