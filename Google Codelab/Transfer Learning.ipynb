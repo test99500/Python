{
 "cells": [
  {
   "cell_type": "markdown",
   "metadata": {
    "collapsed": true,
    "pycharm": {
     "name": "#%% md\n"
    }
   },
   "source": [
    "There are fully-trained convolutional neural networks available for download.\n",
    "\n",
    "It is possible to chop off their last layer, the softmax classification head, and replace it with your own.\n",
    "\n",
    "All the trained weights and biases stay as they are, you only retrain the softmax layer you add.\n",
    "\n",
    "This technique is called transfer learning and amazingly,\n",
    "it works as long as the dataset on which the neural net is pre-trained is \"close enough\" to yours.\n",
    "\n",
    "With transfer learning, you benefit from both advanced convolutional neural network architectures developed by top researchers and from pre-training on a huge dataset of images.\n",
    "\n",
    "In our case, we will be transfer learning from a network trained on ImageNet, a database of images containing many plants and outdoor scenes, which is close enough to flowers."
   ]
  },
  {
   "cell_type": "code",
   "execution_count": null,
   "outputs": [],
   "source": [
    "from tensorflow.keras.applications import MobileNet\n",
    "from tensorflow.keras.models import Sequential\n",
    "from tensorflow.keras.layers import Flatten, Dense\n",
    "\n",
    "pretrained_model = MobileNet(input_shape=[*IMAGE_SIZE, 3], include_top=False)\n",
    "\n",
    "# By selecting include_top = False, you get the pre-trained model without\n",
    "# its final softmax layer so that you can add your own.\n",
    "pretrained_model.trainable = False\n",
    "\n",
    "model = Sequential([\n",
    "    pretrained_model,\n",
    "    Flatten(),\n",
    "    Dense(units=5, activation='softmax')\n",
    "])\n",
    "\n",
    "model.compile(optimizer='adam',\n",
    "              loss='sparse_categorical_crossentropy',\n",
    "              metrics=['accuracy'])\n",
    "\n",
    "model.summary()"
   ],
   "metadata": {
    "collapsed": false,
    "pycharm": {
     "name": "#%%\n"
    }
   }
  },
  {
   "cell_type": "markdown",
   "source": [
    "Reference:\n",
    "1. https://codelabs.developers.google.com/codelabs/keras-flowers-tpu?hl=en&continue=https%3A%2F%2Fcodelabs.developers.google.com%2F#6\n",
    "2. https://colab.research.google.com/github/GoogleCloudPlatform/training-data-analyst/blob/master/courses/fast-and-lean-data-science/04_Keras_Flowers_transfer_learning_solution.ipynb"
   ],
   "metadata": {
    "collapsed": false,
    "pycharm": {
     "name": "#%% md\n"
    }
   }
  }
 ],
 "metadata": {
  "kernelspec": {
   "display_name": "Python 3",
   "language": "python",
   "name": "python3"
  },
  "language_info": {
   "codemirror_mode": {
    "name": "ipython",
    "version": 2
   },
   "file_extension": ".py",
   "mimetype": "text/x-python",
   "name": "python",
   "nbconvert_exporter": "python",
   "pygments_lexer": "ipython2",
   "version": "2.7.6"
  }
 },
 "nbformat": 4,
 "nbformat_minor": 0
}