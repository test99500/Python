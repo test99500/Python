{
 "cells": [
  {
   "cell_type": "markdown",
   "metadata": {
    "collapsed": true,
    "pycharm": {
     "name": "#%% md\n"
    }
   },
   "source": [
    "There are fully-trained convolutional neural networks available for download.\n",
    "\n",
    "It is possible to chop off their last layer, the softmax classification head, and replace it with your own.\n",
    "\n",
    "All the trained weights and biases stay as they are, you only retrain the softmax layer you add.\n",
    "\n",
    "This technique is called transfer learning and amazingly,\n",
    "it works as long as the dataset on which the neural net is pre-trained is \"close enough\" to yours.\n",
    "\n",
    "With transfer learning, you benefit from both advanced convolutional neural network architectures developed by top researchers and from pre-training on a huge dataset of images.\n",
    "\n",
    "In our case, we will be transfer learning from a network trained on ImageNet, a database of images containing many plants and outdoor scenes, which is close enough to flowers. "
   ]
  }
 ],
 "metadata": {
  "kernelspec": {
   "display_name": "Python 3",
   "language": "python",
   "name": "python3"
  },
  "language_info": {
   "codemirror_mode": {
    "name": "ipython",
    "version": 2
   },
   "file_extension": ".py",
   "mimetype": "text/x-python",
   "name": "python",
   "nbconvert_exporter": "python",
   "pygments_lexer": "ipython2",
   "version": "2.7.6"
  }
 },
 "nbformat": 4,
 "nbformat_minor": 0
}