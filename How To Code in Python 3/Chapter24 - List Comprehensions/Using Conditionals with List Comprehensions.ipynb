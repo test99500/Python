{
 "cells": [
  {
   "cell_type": "code",
   "execution_count": 6,
   "metadata": {
    "collapsed": true
   },
   "outputs": [
    {
     "name": "stdout",
     "output_type": "stream",
     "text": [
      "['blowfish', 'clownfish', 'catfish']\n",
      "[0, 1, 4, 9, 16, 25, 36, 49, 64, 81]\n",
      "[0, 4, 16, 36, 64]\n",
      "[0, 15, 30, 45, 60, 75, 90]\n"
     ]
    }
   ],
   "source": [
    "fish_tuple = ('blowfish', 'clownfish', 'catfish', 'octopus')\n",
    "\n",
    "fish_list = [fish for fish in fish_tuple if fish != 'octopus']\n",
    "\n",
    "print(fish_list)\n",
    "\n",
    "member_list = [x ** 2 for x in range(10)]\n",
    "print(member_list)\n",
    "\n",
    "member_list2 = [x ** 2 for x in range(10) if x % 2 == 0]\n",
    "print(member_list2)\n",
    "\n",
    "# Nested if\n",
    "number_list3 = [x for x in range(100) if x % 3 == 0 if x % 5 == 0]\n",
    "#              [x for x in range(10) if x % 3 == 0 && if x % 5 == 0]\n",
    "print(number_list3)\n",
    "\n",
    "# number_list4 = [x for x in range(10) if x % 3 == 0 && if x % 5 == 0]"
   ]
  }
 ],
 "metadata": {
  "kernelspec": {
   "display_name": "Python 3",
   "language": "python",
   "name": "python3"
  },
  "language_info": {
   "codemirror_mode": {
    "name": "ipython",
    "version": 2
   },
   "file_extension": ".py",
   "mimetype": "text/x-python",
   "name": "python",
   "nbconvert_exporter": "python",
   "pygments_lexer": "ipython2",
   "version": "2.7.6"
  }
 },
 "nbformat": 4,
 "nbformat_minor": 0
}