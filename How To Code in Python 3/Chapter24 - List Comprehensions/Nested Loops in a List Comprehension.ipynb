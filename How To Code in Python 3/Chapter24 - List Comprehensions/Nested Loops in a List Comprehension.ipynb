{
 "cells": [
  {
   "cell_type": "code",
   "execution_count": 2,
   "metadata": {
    "collapsed": true
   },
   "outputs": [
    {
     "name": "stdout",
     "output_type": "stream",
     "text": [
      "[40, 80, 120, 80, 160, 240, 120, 240, 360]\n",
      "[40, 80, 120, 80, 160, 240, 120, 240, 360]\n"
     ]
    }
   ],
   "source": [
    "my_list = []\n",
    "\n",
    "for x in [20, 40, 60]:\n",
    "    for y in [2, 4, 6]:\n",
    "        my_list.append(x * y)\n",
    "\n",
    "print(my_list)\n",
    "\n",
    "my_list_ = [x * y for x in [20, 40, 60] for y in [2, 4, 6]]\n",
    "\n",
    "print(my_list_)"
   ]
  }
 ],
 "metadata": {
  "kernelspec": {
   "display_name": "Python 3",
   "language": "python",
   "name": "python3"
  },
  "language_info": {
   "codemirror_mode": {
    "name": "ipython",
    "version": 2
   },
   "file_extension": ".py",
   "mimetype": "text/x-python",
   "name": "python",
   "nbconvert_exporter": "python",
   "pygments_lexer": "ipython2",
   "version": "2.7.6"
  }
 },
 "nbformat": 4,
 "nbformat_minor": 0
}