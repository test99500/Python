{
 "cells": [
  {
   "cell_type": "code",
   "execution_count": null,
   "metadata": {
    "collapsed": true,
    "pycharm": {
     "name": "#%%\n"
    }
   },
   "outputs": [],
   "source": [
    "from numpy import arange, cos, pi\n",
    "from scipy import signal\n",
    "import matplotlib.pyplot as plt\n",
    "\n",
    "Ns=30 # length of input sequence\n",
    "n= arange(Ns) # sample index\n",
    "x = cos(arange(Ns)*pi/2.)\n",
    "y= signal.lfilter([1/2.,1/2.],1,x)\n",
    "\n",
    "fig,ax = plt.subplots(1,1)\n",
    "fig.set_size_inches(12,5)\n",
    "\n",
    "ax.stem(n,x,label='input', basefmt='b-')\n",
    "ax.plot(n,x,':')\n",
    "ax.stem(n[1:],y[:-1],markerfmt='ro', linefmt='r-', label='output')\n",
    "ax.plot(n[1:],y[:-1], 'r:')\n",
    "ax.set_ylim(ymin=-1.1,ymax=1.1)\n",
    "ax.set_xlabel(\"n\",fontsize=22)\n"
   ]
  }
 ],
 "metadata": {
  "kernelspec": {
   "display_name": "Python 3",
   "language": "python",
   "name": "python3"
  },
  "language_info": {
   "codemirror_mode": {
    "name": "ipython",
    "version": 2
   },
   "file_extension": ".py",
   "mimetype": "text/x-python",
   "name": "python",
   "nbconvert_exporter": "python",
   "pygments_lexer": "ipython2",
   "version": "2.7.6"
  }
 },
 "nbformat": 4,
 "nbformat_minor": 0
}