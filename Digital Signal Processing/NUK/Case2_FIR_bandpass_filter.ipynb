{
 "cells": [
  {
   "cell_type": "code",
   "execution_count": null,
   "metadata": {
    "collapsed": true
   },
   "outputs": [],
   "source": [
    "import numpy as np\n",
    "from math import pi\n",
    "\n",
    "N = 40;\n",
    "ws1 = 0.3*pi;\n",
    "wp1 = 0.4*pi;\n",
    "wp2 = 0.65*pi;\n",
    "ws2 = 0.75 * pi;\n",
    "Ns = 200;"
   ]
  },
  {
   "cell_type": "code",
   "execution_count": null,
   "outputs": [],
   "source": [
    "NH = N / 2;\n",
    "deltaw = pi/ Ns;\n",
    "Ns_p = round((wp2 - wp1)/deltaw);\n",
    "Ns_s1 = round(ws1/deltaw);\n",
    "Ns_s2 = round((pi - ws2) / deltaw);\n",
    "NV = []\n",
    "\n",
    "for i in range(NH):\n",
    "    NV.append(i)\n",
    "\n",
    "\n",
    "NV = np.array(NV)\n",
    "NV = NV.transpose()\n"
   ],
   "metadata": {
    "collapsed": false,
    "pycharm": {
     "name": "#%%\n"
    }
   }
  },
  {
   "cell_type": "code",
   "execution_count": null,
   "outputs": [],
   "source": [
    "from math import cos\n",
    "\n",
    "P = np.zeros(NH, 1);\n",
    "Qp = np.zeros(NH, NH);\n",
    "\n",
    "for iw in range(Ns_p):\n",
    "    w = wp1 + iw*deltaw;\n",
    "    P = P - 2*cos(w*(NV-0.5));\n",
    "    Qp = Qp + cos(w * (NV-0.5)) * np.array((cos(w * (NV-0.5)))).transpose()\n",
    "\n",
    "\n",
    "P = (wp2 - wp1) * P / (Ns_p + 1);\n",
    "Qp = (wp2 - wp1) * Qp / (Ns_p + 1);"
   ],
   "metadata": {
    "collapsed": false,
    "pycharm": {
     "name": "#%%\n"
    }
   }
  },
  {
   "cell_type": "code",
   "execution_count": null,
   "outputs": [],
   "source": [
    "Qs = np.zeros(NH, NH)\n",
    "\n",
    "for iw in range(Ns_s1):\n",
    "    w = iw*deltaw;\n",
    "    Qs1 = Qs1 + cos(w*(NV-0.5)) * np.array((cos(w*(NV-0.5)))).transpose()\n",
    "\n",
    "\n",
    "Qs1 = ws1 * Qs1 / (Ns_s1 + 1);\n"
   ],
   "metadata": {
    "collapsed": false,
    "pycharm": {
     "name": "#%%\n"
    }
   }
  },
  {
   "cell_type": "code",
   "execution_count": null,
   "outputs": [],
   "source": [
    "Qs2 = np.zeros(NH, NH);\n",
    "\n",
    "for iw in range(Ns_s2):\n",
    "    w = ws2 + iw*deltaw;\n",
    "    Qs2 = Qs2 + cos(w*(NV-0.5)) * np.array((cos(w*(NV-0.5)))).transpose()\n",
    "\n",
    "\n",
    "Qs2 = (pi - ws2) * Qs2 / (Ns_s2 + 1);"
   ],
   "metadata": {
    "collapsed": false,
    "pycharm": {
     "name": "#%%\n"
    }
   }
  },
  {
   "cell_type": "code",
   "execution_count": null,
   "outputs": [],
   "source": [
    "Q = Qp + Qs1 + Qs2;\n",
    "A = -0.5 * np.invert(Q) * P"
   ],
   "metadata": {
    "collapsed": false,
    "pycharm": {
     "name": "#%%\n"
    }
   }
  },
  {
   "cell_type": "code",
   "execution_count": null,
   "outputs": [],
   "source": [
    "h = np.zeros(N, 1)\n",
    "h[1:NH] = 0.5 * np.flipud(A)\n",
    "h[NH+1:N] = 0.5 * A"
   ],
   "metadata": {
    "collapsed": false,
    "pycharm": {
     "name": "#%%\n"
    }
   }
  },
  {
   "cell_type": "code",
   "execution_count": null,
   "outputs": [],
   "source": [
    "import matplotlib.pyplot as plt\n",
    "\n",
    "\n"
   ],
   "metadata": {
    "collapsed": false,
    "pycharm": {
     "name": "#%%\n"
    }
   }
  }
 ],
 "metadata": {
  "kernelspec": {
   "display_name": "Python 3",
   "language": "python",
   "name": "python3"
  },
  "language_info": {
   "codemirror_mode": {
    "name": "ipython",
    "version": 2
   },
   "file_extension": ".py",
   "mimetype": "text/x-python",
   "name": "python",
   "nbconvert_exporter": "python",
   "pygments_lexer": "ipython2",
   "version": "2.7.6"
  }
 },
 "nbformat": 4,
 "nbformat_minor": 0
}