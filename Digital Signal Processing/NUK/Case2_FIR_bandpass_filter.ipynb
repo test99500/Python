{
 "cells": [
  {
   "cell_type": "code",
   "execution_count": null,
   "metadata": {
    "collapsed": true
   },
   "outputs": [],
   "source": [
    "import numpy as np\n",
    "from math import pi\n",
    "\n",
    "N = 40;\n",
    "ws1 = 0.3*pi;\n",
    "wp1 = 0.4*pi;\n",
    "wp2 = 0.65*pi;\n",
    "ws2 = 0.75 * pi;\n",
    "Ns = 200;"
   ]
  },
  {
   "cell_type": "code",
   "execution_count": null,
   "outputs": [],
   "source": [
    "NH = N / 2;\n",
    "deltaw = pi/ Ns;\n",
    "Ns_p = round((wp2 - wp1)/deltaw);\n",
    "Ns_s1 = round(ws1/deltaw);\n",
    "Ns_s2 = round((pi - ws2) / deltaw);\n",
    "NV = []\n",
    "\n",
    "for i in range(NH):\n",
    "    NV.append(i)\n",
    "\n",
    "\n",
    "NV = np.array(NV)\n",
    "NV = NV.transpose()\n"
   ],
   "metadata": {
    "collapsed": false,
    "pycharm": {
     "name": "#%%\n"
    }
   }
  },
  {
   "cell_type": "code",
   "execution_count": null,
   "outputs": [],
   "source": [
    "P = np.zeros(NH, 1);\n",
    "Qp = np.zeros(NH, NH);"
   ],
   "metadata": {
    "collapsed": false,
    "pycharm": {
     "name": "#%%\n"
    }
   }
  }
 ],
 "metadata": {
  "kernelspec": {
   "display_name": "Python 3",
   "language": "python",
   "name": "python3"
  },
  "language_info": {
   "codemirror_mode": {
    "name": "ipython",
    "version": 2
   },
   "file_extension": ".py",
   "mimetype": "text/x-python",
   "name": "python",
   "nbconvert_exporter": "python",
   "pygments_lexer": "ipython2",
   "version": "2.7.6"
  }
 },
 "nbformat": 4,
 "nbformat_minor": 0
}