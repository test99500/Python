{
 "cells": [
  {
   "cell_type": "code",
   "execution_count": null,
   "metadata": {
    "collapsed": true
   },
   "outputs": [
    {
     "ename": "KeyboardInterrupt",
     "evalue": "",
     "output_type": "error",
     "traceback": [
      "\u001B[1;31m---------------------------------------------------------------------------\u001B[0m",
      "\u001B[1;31mModuleNotFoundError\u001B[0m                       Traceback (most recent call last)",
      "\u001B[1;32m~\\AppData\\Local\\JetBrains\\Toolbox\\apps\\IDEA-U\\ch-0\\213.6777.52.plugins\\python\\helpers\\pydev\\_pydevd_bundle\\pydevd_cython_wrapper.py\u001B[0m in \u001B[0;36m<module>\u001B[1;34m\u001B[0m\n\u001B[0;32m      7\u001B[0m     \u001B[1;32mtry\u001B[0m\u001B[1;33m:\u001B[0m\u001B[1;33m\u001B[0m\u001B[1;33m\u001B[0m\u001B[0m\n\u001B[1;32m----> 8\u001B[1;33m         \u001B[1;32mfrom\u001B[0m \u001B[0m_pydevd_bundle_ext\u001B[0m \u001B[1;32mimport\u001B[0m \u001B[0mpydevd_cython\u001B[0m \u001B[1;32mas\u001B[0m \u001B[0mmod\u001B[0m\u001B[1;33m\u001B[0m\u001B[1;33m\u001B[0m\u001B[0m\n\u001B[0m\u001B[0;32m      9\u001B[0m \u001B[1;33m\u001B[0m\u001B[0m\n",
      "\u001B[1;31mModuleNotFoundError\u001B[0m: No module named '_pydevd_bundle_ext'",
      "\nDuring handling of the above exception, another exception occurred:\n",
      "\u001B[1;31mImportError\u001B[0m                               Traceback (most recent call last)",
      "\u001B[1;32m~\\AppData\\Local\\JetBrains\\Toolbox\\apps\\IDEA-U\\ch-0\\213.6777.52.plugins\\python\\helpers\\pydev\\_pydevd_bundle\\pydevd_cython_wrapper.py\u001B[0m in \u001B[0;36m<module>\u001B[1;34m\u001B[0m\n\u001B[0;32m     10\u001B[0m     \u001B[1;32mexcept\u001B[0m \u001B[0mImportError\u001B[0m\u001B[1;33m:\u001B[0m\u001B[1;33m\u001B[0m\u001B[1;33m\u001B[0m\u001B[0m\n\u001B[1;32m---> 11\u001B[1;33m         \u001B[1;32mfrom\u001B[0m \u001B[0m_pydevd_bundle\u001B[0m \u001B[1;32mimport\u001B[0m \u001B[0mpydevd_cython\u001B[0m \u001B[1;32mas\u001B[0m \u001B[0mmod\u001B[0m\u001B[1;33m\u001B[0m\u001B[1;33m\u001B[0m\u001B[0m\n\u001B[0m\u001B[0;32m     12\u001B[0m \u001B[1;33m\u001B[0m\u001B[0m\n",
      "\u001B[1;31mImportError\u001B[0m: cannot import name 'pydevd_cython' from '_pydevd_bundle' (C:\\Users\\ted10014\\AppData\\Local\\JetBrains\\Toolbox\\apps\\IDEA-U\\ch-0\\213.6777.52.plugins\\python\\helpers\\pydev\\_pydevd_bundle\\__init__.py)",
      "\nDuring handling of the above exception, another exception occurred:\n",
      "\u001B[1;31mKeyboardInterrupt\u001B[0m                         Traceback (most recent call last)",
      "\u001B[1;32m~\\AppData\\Local\\Temp\\ipykernel_39080\\3607238440.py\u001B[0m in \u001B[0;36m<module>\u001B[1;34m\u001B[0m\n\u001B[0;32m      7\u001B[0m \u001B[0mremove_imported_pydev_package\u001B[0m\u001B[1;33m(\u001B[0m\u001B[1;33m)\u001B[0m\u001B[1;33m\u001B[0m\u001B[1;33m\u001B[0m\u001B[0m\n\u001B[0;32m      8\u001B[0m \u001B[1;32mimport\u001B[0m \u001B[0mpydev_jupyter_utils\u001B[0m\u001B[1;33m\u001B[0m\u001B[1;33m\u001B[0m\u001B[0m\n\u001B[1;32m----> 9\u001B[1;33m \u001B[0mpydev_jupyter_utils\u001B[0m\u001B[1;33m.\u001B[0m\u001B[0mattach_to_debugger\u001B[0m\u001B[1;33m(\u001B[0m\u001B[1;36m65124\u001B[0m\u001B[1;33m)\u001B[0m\u001B[1;33m\u001B[0m\u001B[1;33m\u001B[0m\u001B[0m\n\u001B[0m",
      "\u001B[1;32m~\\AppData\\Local\\JetBrains\\Toolbox\\apps\\IDEA-U\\ch-0\\213.6777.52.plugins\\python\\helpers-pro\\jupyter_debug\\pydev_jupyter_utils.py\u001B[0m in \u001B[0;36mattach_to_debugger\u001B[1;34m(debugger_port)\u001B[0m\n\u001B[0;32m     72\u001B[0m     \u001B[0mipython_shell\u001B[0m \u001B[1;33m=\u001B[0m \u001B[0mget_ipython\u001B[0m\u001B[1;33m(\u001B[0m\u001B[1;33m)\u001B[0m\u001B[1;33m\u001B[0m\u001B[1;33m\u001B[0m\u001B[0m\n\u001B[0;32m     73\u001B[0m \u001B[1;33m\u001B[0m\u001B[0m\n\u001B[1;32m---> 74\u001B[1;33m     \u001B[1;32mimport\u001B[0m \u001B[0mpydevd\u001B[0m\u001B[1;33m\u001B[0m\u001B[1;33m\u001B[0m\u001B[0m\n\u001B[0m\u001B[0;32m     75\u001B[0m     \u001B[1;32mfrom\u001B[0m \u001B[0m_pydev_bundle\u001B[0m \u001B[1;32mimport\u001B[0m \u001B[0mpydev_localhost\u001B[0m\u001B[1;33m\u001B[0m\u001B[1;33m\u001B[0m\u001B[0m\n\u001B[0;32m     76\u001B[0m \u001B[1;33m\u001B[0m\u001B[0m\n",
      "\u001B[1;32m~\\AppData\\Local\\JetBrains\\Toolbox\\apps\\IDEA-U\\ch-0\\213.6777.52.plugins\\python\\helpers\\pydev\\pydevd.py\u001B[0m in \u001B[0;36m<module>\u001B[1;34m\u001B[0m\n\u001B[0;32m     53\u001B[0m \u001B[1;32mfrom\u001B[0m \u001B[0m_pydevd_bundle\u001B[0m\u001B[1;33m.\u001B[0m\u001B[0mpydevd_frame_utils\u001B[0m \u001B[1;32mimport\u001B[0m \u001B[0madd_exception_to_frame\u001B[0m\u001B[1;33m,\u001B[0m \u001B[0mremove_exception_from_frame\u001B[0m\u001B[1;33m\u001B[0m\u001B[1;33m\u001B[0m\u001B[0m\n\u001B[0;32m     54\u001B[0m \u001B[1;32mfrom\u001B[0m \u001B[0m_pydevd_bundle\u001B[0m\u001B[1;33m.\u001B[0m\u001B[0mpydevd_kill_all_pydevd_threads\u001B[0m \u001B[1;32mimport\u001B[0m \u001B[0mkill_all_pydev_threads\u001B[0m\u001B[1;33m\u001B[0m\u001B[1;33m\u001B[0m\u001B[0m\n\u001B[1;32m---> 55\u001B[1;33m from _pydevd_bundle.pydevd_trace_dispatch import (\n\u001B[0m\u001B[0;32m     56\u001B[0m     trace_dispatch as _trace_dispatch, global_cache_skips, global_cache_frame_skips, show_tracing_warning)\n\u001B[0;32m     57\u001B[0m from _pydevd_frame_eval.pydevd_frame_eval_main import (\n",
      "\u001B[1;32m~\\AppData\\Local\\JetBrains\\Toolbox\\apps\\IDEA-U\\ch-0\\213.6777.52.plugins\\python\\helpers\\pydev\\_pydevd_bundle\\pydevd_trace_dispatch.py\u001B[0m in \u001B[0;36m<module>\u001B[1;34m\u001B[0m\n\u001B[0;32m     53\u001B[0m     \u001B[1;31m# Regular: use fallback if not found and give message to user\u001B[0m\u001B[1;33m\u001B[0m\u001B[1;33m\u001B[0m\u001B[1;33m\u001B[0m\u001B[0m\n\u001B[0;32m     54\u001B[0m     \u001B[1;32mtry\u001B[0m\u001B[1;33m:\u001B[0m\u001B[1;33m\u001B[0m\u001B[1;33m\u001B[0m\u001B[0m\n\u001B[1;32m---> 55\u001B[1;33m         \u001B[1;32mfrom\u001B[0m \u001B[0m_pydevd_bundle\u001B[0m\u001B[1;33m.\u001B[0m\u001B[0mpydevd_cython_wrapper\u001B[0m \u001B[1;32mimport\u001B[0m \u001B[0mtrace_dispatch\u001B[0m \u001B[1;32mas\u001B[0m \u001B[0m_trace_dispatch\u001B[0m\u001B[1;33m,\u001B[0m \u001B[0mglobal_cache_skips\u001B[0m\u001B[1;33m,\u001B[0m \u001B[0mglobal_cache_frame_skips\u001B[0m\u001B[1;33m,\u001B[0m \u001B[0mfix_top_level_trace_and_get_trace_func\u001B[0m\u001B[1;33m\u001B[0m\u001B[1;33m\u001B[0m\u001B[0m\n\u001B[0m\u001B[0;32m     56\u001B[0m         \u001B[1;32mdef\u001B[0m \u001B[0mtrace_dispatch\u001B[0m\u001B[1;33m(\u001B[0m\u001B[0mpy_db\u001B[0m\u001B[1;33m,\u001B[0m \u001B[0mframe\u001B[0m\u001B[1;33m,\u001B[0m \u001B[0mevent\u001B[0m\u001B[1;33m,\u001B[0m \u001B[0marg\u001B[0m\u001B[1;33m)\u001B[0m\u001B[1;33m:\u001B[0m\u001B[1;33m\u001B[0m\u001B[1;33m\u001B[0m\u001B[0m\n\u001B[0;32m     57\u001B[0m             \u001B[1;32mif\u001B[0m \u001B[0m_trace_dispatch\u001B[0m \u001B[1;32mis\u001B[0m \u001B[1;32mNone\u001B[0m\u001B[1;33m:\u001B[0m\u001B[1;33m\u001B[0m\u001B[1;33m\u001B[0m\u001B[0m\n",
      "\u001B[1;32m~\\AppData\\Local\\JetBrains\\Toolbox\\apps\\IDEA-U\\ch-0\\213.6777.52.plugins\\python\\helpers\\pydev\\_pydevd_bundle\\pydevd_cython_wrapper.py\u001B[0m in \u001B[0;36m<module>\u001B[1;34m\u001B[0m\n\u001B[0;32m     33\u001B[0m     \u001B[0mmod_name\u001B[0m \u001B[1;33m=\u001B[0m \u001B[1;34m'pydevd_cython_%s_%s%s_%s'\u001B[0m \u001B[1;33m%\u001B[0m \u001B[1;33m(\u001B[0m\u001B[0msys\u001B[0m\u001B[1;33m.\u001B[0m\u001B[0mplatform\u001B[0m\u001B[1;33m,\u001B[0m \u001B[0msys\u001B[0m\u001B[1;33m.\u001B[0m\u001B[0mversion_info\u001B[0m\u001B[1;33m[\u001B[0m\u001B[1;36m0\u001B[0m\u001B[1;33m]\u001B[0m\u001B[1;33m,\u001B[0m \u001B[0msys\u001B[0m\u001B[1;33m.\u001B[0m\u001B[0mversion_info\u001B[0m\u001B[1;33m[\u001B[0m\u001B[1;36m1\u001B[0m\u001B[1;33m]\u001B[0m\u001B[1;33m,\u001B[0m \u001B[0mplat\u001B[0m\u001B[1;33m)\u001B[0m\u001B[1;33m\u001B[0m\u001B[1;33m\u001B[0m\u001B[0m\n\u001B[0;32m     34\u001B[0m     \u001B[0mcheck_name\u001B[0m \u001B[1;33m=\u001B[0m \u001B[1;34m'_pydevd_bundle.%s'\u001B[0m \u001B[1;33m%\u001B[0m \u001B[1;33m(\u001B[0m\u001B[0mmod_name\u001B[0m\u001B[1;33m,\u001B[0m\u001B[1;33m)\u001B[0m\u001B[1;33m\u001B[0m\u001B[1;33m\u001B[0m\u001B[0m\n\u001B[1;32m---> 35\u001B[1;33m     \u001B[0mmod\u001B[0m \u001B[1;33m=\u001B[0m \u001B[0mgetattr\u001B[0m\u001B[1;33m(\u001B[0m\u001B[0m__import__\u001B[0m\u001B[1;33m(\u001B[0m\u001B[0mcheck_name\u001B[0m\u001B[1;33m)\u001B[0m\u001B[1;33m,\u001B[0m \u001B[0mmod_name\u001B[0m\u001B[1;33m)\u001B[0m\u001B[1;33m\u001B[0m\u001B[1;33m\u001B[0m\u001B[0m\n\u001B[0m\u001B[0;32m     36\u001B[0m \u001B[1;33m\u001B[0m\u001B[0m\n\u001B[0;32m     37\u001B[0m \u001B[1;31m# Regardless of how it was found, make sure it's later available as the\u001B[0m\u001B[1;33m\u001B[0m\u001B[1;33m\u001B[0m\u001B[1;33m\u001B[0m\u001B[0m\n",
      "\u001B[1;32mc:\\program files (x86)\\microsoft visual studio\\shared\\python37_64\\lib\\importlib\\_bootstrap.py\u001B[0m in \u001B[0;36mparent\u001B[1;34m(self)\u001B[0m\n",
      "\u001B[1;31mKeyboardInterrupt\u001B[0m: "
     ]
    }
   ],
   "source": []
  },
  {
   "cell_type": "code",
   "execution_count": 1,
   "outputs": [
    {
     "data": {
      "text/plain": "<Figure size 432x288 with 1 Axes>",
      "image/png": "[encoded data removed]"
     },
     "metadata": {
      "needs_background": "light"
     },
     "output_type": "display_data"
    }
   ],
   "source": [
    "import thinkdsp\n",
    "import matplotlib.pyplot as plt\n",
    "\n",
    "cos_signal = thinkdsp.CosSignal(freq=440, amp=1.0, offset=0)\n",
    "sin_sigal = thinkdsp.SinSignal(freq=880, amp=0.5, offset=0)\n",
    "\n",
    "mix = sin_sigal + cos_signal\n",
    "\n",
    "wave = mix.make_wave(duration=0.5, start=0, framerate=11025)\n",
    "\n",
    "wave.plot()\n",
    "\n",
    "plt.show()"
   ],
   "metadata": {
    "collapsed": false,
    "pycharm": {
     "name": "#%%\n"
    }
   }
  },
  {
   "cell_type": "code",
   "execution_count": null,
   "outputs": [],
   "source": [],
   "metadata": {
    "collapsed": false,
    "pycharm": {
     "name": "#%%\n"
    }
   }
  }
 ],
 "metadata": {
  "kernelspec": {
   "display_name": "Python 3",
   "language": "python",
   "name": "python3"
  },
  "language_info": {
   "codemirror_mode": {
    "name": "ipython",
    "version": 2
   },
   "file_extension": ".py",
   "mimetype": "text/x-python",
   "name": "python",
   "nbconvert_exporter": "python",
   "pygments_lexer": "ipython2",
   "version": "2.7.6"
  }
 },
 "nbformat": 4,
 "nbformat_minor": 0
}