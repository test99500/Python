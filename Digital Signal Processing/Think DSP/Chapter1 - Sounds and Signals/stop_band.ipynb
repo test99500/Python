{
 "cells": [
  {
   "cell_type": "code",
   "execution_count": null,
   "metadata": {
    "collapsed": true
   },
   "outputs": [],
   "source": [
    "from thinkdsp import read_wave, play_wave\n",
    "\n",
    "wave = read_wave('92002__jcveliz__violin-origional.wav')\n",
    "\n",
    "segment = wave.segment(start=1.2, duration=0.6)\n",
    "\n",
    "segment.plot()"
   ]
  }
 ],
 "metadata": {
  "kernelspec": {
   "display_name": "Python 3",
   "language": "python",
   "name": "python3"
  },
  "language_info": {
   "codemirror_mode": {
    "name": "ipython",
    "version": 2
   },
   "file_extension": ".py",
   "mimetype": "text/x-python",
   "name": "python",
   "nbconvert_exporter": "python",
   "pygments_lexer": "ipython2",
   "version": "2.7.6"
  }
 },
 "nbformat": 4,
 "nbformat_minor": 0
}