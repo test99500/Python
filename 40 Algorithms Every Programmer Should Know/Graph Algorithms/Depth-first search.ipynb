{
 "cells": [
  {
   "cell_type": "markdown",
   "source": [
    "Let's do a aptitude test by feeding the program some more test cases."
   ],
   "metadata": {
    "collapsed": false
   }
  },
  {
   "cell_type": "code",
   "execution_count": null,
   "metadata": {
    "collapsed": true
   },
   "outputs": [],
   "source": [
    "def dfs(graph, start):\n",
    "    visited = []  # This contains all the vertices that have been visited. Initially, it will be empty.\n",
    "    visited.append(start)\n",
    "\n",
    "    stack = graph[start] # This contains all the vertices that we have & want to visit in next iterations.\n",
    "\n",
    "    # Check if there exists even a single element in the stack.\n",
    "    while stack:\n",
    "        # Pop the top node in the stack and chose that node as the current node of this iteration.\n",
    "        node = stack.pop()\n",
    "        if node not in visited:\n",
    "            visited.append(node)\n",
    "            neighbours = graph[node]  # Use neighbors to represent the node's directly connected nodes.\n",
    "\n",
    "            # Now, add the node's neighbours one by one to the stack.\n",
    "            for neighbour in neighbours:\n",
    "                if neighbour not in visited:  # To prevent graph[start] from being added again.\n",
    "                    stack.append(neighbour)\n",
    "\n",
    "    return visited\n",
    "\n",
    "\n",
    "# Adjacency list\n",
    "graph = {4: [2, 8],\n",
    "         2: [4, 1, 3],\n",
    "         8: [4, 5, 10],\n",
    "         1: [2], # [] is added for format align purpose\n",
    "\n",
    "         }"
   ]
  },
  {
   "cell_type": "markdown",
   "source": [],
   "metadata": {
    "collapsed": false
   }
  }
 ],
 "metadata": {
  "kernelspec": {
   "display_name": "Python 3",
   "language": "python",
   "name": "python3"
  },
  "language_info": {
   "codemirror_mode": {
    "name": "ipython",
    "version": 2
   },
   "file_extension": ".py",
   "mimetype": "text/x-python",
   "name": "python",
   "nbconvert_exporter": "python",
   "pygments_lexer": "ipython2",
   "version": "2.7.6"
  }
 },
 "nbformat": 4,
 "nbformat_minor": 0
}
