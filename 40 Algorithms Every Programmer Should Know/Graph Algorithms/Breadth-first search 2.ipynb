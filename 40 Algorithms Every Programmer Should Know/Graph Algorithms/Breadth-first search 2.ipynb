{
 "cells": [
  {
   "cell_type": "markdown",
   "source": [
    "It's important to enclose every key's value even if the key has only one value.\n",
    "\n",
    "This is because Python permits accessing a character in a string, e.g."
   ],
   "metadata": {
    "collapsed": false
   }
  },
  {
   "cell_type": "code",
   "execution_count": 1,
   "outputs": [
    {
     "name": "stdout",
     "output_type": "stream",
     "text": [
      "o\n"
     ]
    }
   ],
   "source": [
    "my_string = \"Hello World\"\n",
    "\n",
    "print(my_string[4])"
   ],
   "metadata": {
    "collapsed": false
   }
  },
  {
   "cell_type": "markdown",
   "source": [
    "As a result, in the following case, if a key's value is not enclosed in a pair of brackets,\n",
    "Python interpreter might think you want to access individual character in a string during\n",
    "the iteration when you do not."
   ],
   "metadata": {
    "collapsed": false
   }
  },
  {
   "cell_type": "code",
   "execution_count": 2,
   "outputs": [
    {
     "name": "stdout",
     "output_type": "stream",
     "text": [
      "['Wasim', 'Nick', 'Mike']\n"
     ]
    },
    {
     "ename": "KeyError",
     "evalue": "'A'",
     "output_type": "error",
     "traceback": [
      "\u001B[1;31m---------------------------------------------------------------------------\u001B[0m",
      "\u001B[1;31mKeyError\u001B[0m                                  Traceback (most recent call last)",
      "Cell \u001B[1;32mIn[2], line 34\u001B[0m\n\u001B[0;32m     29\u001B[0m                     queue\u001B[38;5;241m.\u001B[39mappend(neighbour)\n\u001B[0;32m     31\u001B[0m     \u001B[38;5;28;01mreturn\u001B[39;00m visited\n\u001B[1;32m---> 34\u001B[0m \u001B[38;5;28mprint\u001B[39m(\u001B[43mbfs\u001B[49m\u001B[43m(\u001B[49m\u001B[43mgraph\u001B[49m\u001B[38;5;241;43m=\u001B[39;49m\u001B[43mGraph\u001B[49m\u001B[43m,\u001B[49m\u001B[43m \u001B[49m\u001B[43mstart\u001B[49m\u001B[38;5;241;43m=\u001B[39;49m\u001B[38;5;124;43m\"\u001B[39;49m\u001B[38;5;124;43mAmin\u001B[39;49m\u001B[38;5;124;43m\"\u001B[39;49m\u001B[43m)\u001B[49m)\n",
      "Cell \u001B[1;32mIn[2], line 24\u001B[0m, in \u001B[0;36mbfs\u001B[1;34m(graph, start)\u001B[0m\n\u001B[0;32m     22\u001B[0m \u001B[38;5;28;01mif\u001B[39;00m node \u001B[38;5;129;01mnot\u001B[39;00m \u001B[38;5;129;01min\u001B[39;00m visited:\n\u001B[0;32m     23\u001B[0m     visited\u001B[38;5;241m.\u001B[39mappend(node)\n\u001B[1;32m---> 24\u001B[0m     neighbours \u001B[38;5;241m=\u001B[39m \u001B[43mgraph\u001B[49m\u001B[43m[\u001B[49m\u001B[43mnode\u001B[49m\u001B[43m]\u001B[49m  \u001B[38;5;66;03m# Use neighbors to represent the node's directly connected nodes.\u001B[39;00m\n\u001B[0;32m     26\u001B[0m     \u001B[38;5;66;03m# Now, add the node's neighbours one by one to the queue.\u001B[39;00m\n\u001B[0;32m     27\u001B[0m     \u001B[38;5;28;01mfor\u001B[39;00m neighbour \u001B[38;5;129;01min\u001B[39;00m neighbours:\n",
      "\u001B[1;31mKeyError\u001B[0m: 'A'"
     ]
    }
   ],
   "source": [
    "# Adjacency list\n",
    "Graph = {\"Amin\": [\"Wasim\", \"Nick\", \"Mike\"],\n",
    "         \"Wasim\": [\"Imran\", \"Amin\"],\n",
    "         \"Nick\": \"Amin\",\n",
    "         \"Mike\": \"Amin\",\n",
    "         \"Imran\": [\"Wasim\", \"Faras\"],\n",
    "         \"Faras\": \"Imran\"\n",
    "         }\n",
    "\n",
    "print(Graph[\"Amin\"])\n",
    "\n",
    "def bfs(graph, start):\n",
    "    visited = []  # This contains all the vertices that have been visited. Initially, it will be empty.\n",
    "    visited.append(start)\n",
    "\n",
    "    queue = graph[start]  # This contains all the vertices that we have want to visit in next iterations.\n",
    "\n",
    "    # Check if there exists even a single element in the queue.\n",
    "    while queue:\n",
    "        # Pop the first node from the queue and chose that node as the current node of this iteration.\n",
    "        node = queue.pop(0)\n",
    "        if node not in visited:\n",
    "            visited.append(node)\n",
    "            neighbours = graph[node]  # Use neighbors to represent the node's directly connected nodes.\n",
    "\n",
    "            # Now, add the node's neighbours one by one to the queue.\n",
    "            for neighbour in neighbours:\n",
    "                if neighbour not in visited:  # To prevent graph[start] from being added again.\n",
    "                    queue.append(neighbour)\n",
    "\n",
    "    return visited\n",
    "\n",
    "\n",
    "print(bfs(graph=Graph, start=\"Amin\"))"
   ],
   "metadata": {
    "collapsed": false
   }
  },
  {
   "cell_type": "markdown",
   "source": [],
   "metadata": {
    "collapsed": false
   }
  }
 ],
 "metadata": {
  "kernelspec": {
   "display_name": "Python 3",
   "language": "python",
   "name": "python3"
  },
  "language_info": {
   "codemirror_mode": {
    "name": "ipython",
    "version": 2
   },
   "file_extension": ".py",
   "mimetype": "text/x-python",
   "name": "python",
   "nbconvert_exporter": "python",
   "pygments_lexer": "ipython2",
   "version": "2.7.6"
  }
 },
 "nbformat": 4,
 "nbformat_minor": 0
}
