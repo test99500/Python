{
 "cells": [
  {
   "cell_type": "code",
   "execution_count": 1,
   "metadata": {
    "collapsed": true
   },
   "outputs": [
    {
     "ename": "AttributeError",
     "evalue": "'tuple' object has no attribute 'pop'",
     "output_type": "error",
     "traceback": [
      "\u001B[1;31m---------------------------------------------------------------------------\u001B[0m",
      "\u001B[1;31mAttributeError\u001B[0m                            Traceback (most recent call last)",
      "Cell \u001B[1;32mIn[1], line 28\u001B[0m\n\u001B[0;32m     23\u001B[0m                 queue\u001B[38;5;241m.\u001B[39mappend(neighbour)\n\u001B[0;32m     25\u001B[0m     \u001B[38;5;28;01mreturn\u001B[39;00m visited\n\u001B[1;32m---> 28\u001B[0m \u001B[43mbfs\u001B[49m\u001B[43m(\u001B[49m\u001B[43mgraph\u001B[49m\u001B[38;5;241;43m=\u001B[39;49m\u001B[43mGraph\u001B[49m\u001B[43m,\u001B[49m\u001B[43m \u001B[49m\u001B[43mstart\u001B[49m\u001B[38;5;241;43m=\u001B[39;49m\u001B[38;5;124;43m\"\u001B[39;49m\u001B[38;5;124;43mAmin\u001B[39;49m\u001B[38;5;124;43m\"\u001B[39;49m\u001B[43m)\u001B[49m\n",
      "Cell \u001B[1;32mIn[1], line 16\u001B[0m, in \u001B[0;36mbfs\u001B[1;34m(graph, start)\u001B[0m\n\u001B[0;32m     13\u001B[0m \u001B[38;5;66;03m# Check if there exists even a single element in the queue.\u001B[39;00m\n\u001B[0;32m     14\u001B[0m \u001B[38;5;28;01mwhile\u001B[39;00m queue:\n\u001B[0;32m     15\u001B[0m     \u001B[38;5;66;03m# Pop the first node from the queue and chose that node as the current node of this iteration.\u001B[39;00m\n\u001B[1;32m---> 16\u001B[0m     node \u001B[38;5;241m=\u001B[39m \u001B[43mqueue\u001B[49m\u001B[38;5;241;43m.\u001B[39;49m\u001B[43mpop\u001B[49m(\u001B[38;5;241m0\u001B[39m)\n\u001B[0;32m     17\u001B[0m     \u001B[38;5;28;01mif\u001B[39;00m node \u001B[38;5;129;01mnot\u001B[39;00m \u001B[38;5;129;01min\u001B[39;00m visited:\n\u001B[0;32m     18\u001B[0m         visited\u001B[38;5;241m.\u001B[39mappend(node)\n",
      "\u001B[1;31mAttributeError\u001B[0m: 'tuple' object has no attribute 'pop'"
     ]
    }
   ],
   "source": [
    "Graph = {\"Amin\": (\"Wasim\", \"Nick\", \"Mike\"),\n",
    "         \"Wasim\": (\"Imran\", \"Amin\"),\n",
    "         \"Nick\": \"Amin\",\n",
    "         \"Mike\": \"Amin\",\n",
    "         \"Imran\": (\"Wasim\", \"Faras\"),\n",
    "         \"Faras\": \"Imran\"\n",
    "         }\n",
    "\n",
    "def bfs(graph, start):\n",
    "    visited = []  # This contains all the vertices that have been visited. Initially, it will be empty.\n",
    "    queue = graph[start]  # This contains all the vertices that we have want to visit in next iterations.\n",
    "\n",
    "    # Check if there exists even a single element in the queue.\n",
    "    while queue:\n",
    "        # Pop the first node from the queue and chose that node as the current node of this iteration.\n",
    "        node = queue.pop(0)\n",
    "        if node not in visited:\n",
    "            visited.append(node)\n",
    "            neighbours = graph[node]  # Use neighbors to represent the node's directly connected nodes.\n",
    "\n",
    "            # Now, add the node's neighbours one by one to the queue.\n",
    "            for neighbour in neighbours:\n",
    "                queue.append(neighbour)\n",
    "\n",
    "    return visited\n",
    "\n",
    "\n",
    "bfs(graph=Graph, start=\"Amin\")"
   ]
  },
  {
   "cell_type": "code",
   "execution_count": 2,
   "outputs": [
    {
     "name": "stdout",
     "output_type": "stream",
     "text": [
      "['Wasim', 'Nick', 'Mike']\n"
     ]
    },
    {
     "ename": "MemoryError",
     "evalue": "",
     "output_type": "error",
     "traceback": [
      "\u001B[1;31m---------------------------------------------------------------------------\u001B[0m",
      "\u001B[1;31mMemoryError\u001B[0m                               Traceback (most recent call last)",
      "Cell \u001B[1;32mIn[2], line 31\u001B[0m\n\u001B[0;32m     26\u001B[0m                 queue\u001B[38;5;241m.\u001B[39mappend(neighbour)\n\u001B[0;32m     28\u001B[0m     \u001B[38;5;28;01mreturn\u001B[39;00m visited\n\u001B[1;32m---> 31\u001B[0m \u001B[43mbfs\u001B[49m\u001B[43m(\u001B[49m\u001B[43mgraph\u001B[49m\u001B[38;5;241;43m=\u001B[39;49m\u001B[43mGraph\u001B[49m\u001B[43m,\u001B[49m\u001B[43m \u001B[49m\u001B[43mstart\u001B[49m\u001B[38;5;241;43m=\u001B[39;49m\u001B[38;5;124;43m\"\u001B[39;49m\u001B[38;5;124;43mAmin\u001B[39;49m\u001B[38;5;124;43m\"\u001B[39;49m\u001B[43m)\u001B[49m\n",
      "Cell \u001B[1;32mIn[2], line 26\u001B[0m, in \u001B[0;36mbfs\u001B[1;34m(graph, start)\u001B[0m\n\u001B[0;32m     24\u001B[0m         \u001B[38;5;66;03m# Now, add the node's neighbours one by one to the queue.\u001B[39;00m\n\u001B[0;32m     25\u001B[0m         \u001B[38;5;28;01mfor\u001B[39;00m neighbour \u001B[38;5;129;01min\u001B[39;00m neighbours:\n\u001B[1;32m---> 26\u001B[0m             \u001B[43mqueue\u001B[49m\u001B[38;5;241;43m.\u001B[39;49m\u001B[43mappend\u001B[49m\u001B[43m(\u001B[49m\u001B[43mneighbour\u001B[49m\u001B[43m)\u001B[49m\n\u001B[0;32m     28\u001B[0m \u001B[38;5;28;01mreturn\u001B[39;00m visited\n",
      "\u001B[1;31mMemoryError\u001B[0m: "
     ]
    }
   ],
   "source": [
    "\n",
    "# Adjacency list\n",
    "Graph = {\"Amin\": [\"Wasim\", \"Nick\", \"Mike\"],\n",
    "         \"Wasim\": [\"Imran\", \"Amin\"],\n",
    "         \"Nick\": \"Amin\",\n",
    "         \"Mike\": \"Amin\",\n",
    "         \"Imran\": [\"Wasim\", \"Faras\"],\n",
    "         \"Faras\": \"Imran\"\n",
    "         }\n",
    "\n",
    "print(Graph[\"Amin\"])\n",
    "\n",
    "def bfs(graph, start):\n",
    "    visited = []  # This contains all the vertices that have been visited. Initially, it will be empty.\n",
    "    queue = graph[start]  # This contains all the vertices that we have want to visit in next iterations.\n",
    "\n",
    "    # Check if there exists even a single element in the queue.\n",
    "    while queue:\n",
    "        # Pop the first node from the queue and chose that node as the current node of this iteration.\n",
    "        node = queue.pop(0)\n",
    "        if node not in visited:\n",
    "            visited.append(node)\n",
    "            neighbours = graph[node]  # Use neighbors to represent the node's directly connected nodes.\n",
    "\n",
    "            # Now, add the node's neighbours one by one to the queue.\n",
    "            for neighbour in neighbours:\n",
    "                queue.append(neighbour)\n",
    "\n",
    "    return visited\n",
    "\n",
    "\n",
    "bfs(graph=Graph, start=\"Amin\")\n"
   ],
   "metadata": {
    "collapsed": false
   }
  },
  {
   "cell_type": "markdown",
   "source": [],
   "metadata": {
    "collapsed": false
   }
  }
 ],
 "metadata": {
  "kernelspec": {
   "display_name": "Python 3",
   "language": "python",
   "name": "python3"
  },
  "language_info": {
   "codemirror_mode": {
    "name": "ipython",
    "version": 2
   },
   "file_extension": ".py",
   "mimetype": "text/x-python",
   "name": "python",
   "nbconvert_exporter": "python",
   "pygments_lexer": "ipython2",
   "version": "2.7.6"
  }
 },
 "nbformat": 4,
 "nbformat_minor": 0
}
