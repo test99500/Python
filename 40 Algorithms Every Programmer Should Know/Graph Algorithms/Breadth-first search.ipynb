{
 "cells": [
  {
   "cell_type": "code",
   "execution_count": null,
   "metadata": {
    "collapsed": true
   },
   "outputs": [],
   "source": [
    "Graph = {\"Amin\": (\"Wasim\", \"Nick\", \"Mike\"),\n",
    "         \"Wasim\": (\"Imran\", \"Amin\"),\n",
    "         \"Nick\": \"Amin\",\n",
    "         \"Mike\": \"Amin\",\n",
    "         \"Imran\": (\"Wasim\", \"Faras\"),\n",
    "         \"Faras\": \"Imran\"\n",
    "         }\n",
    "\n",
    "def bfs(graph, start):\n",
    "    visited = []  # This contains all the vertices that have been visited. Initially, it will be empty.\n",
    "    queue = graph[start]  # This contains all the vertices that we have want to visit in next iterations.\n",
    "\n",
    "    # Check if there exists even a single element in the queue.\n",
    "    while queue:\n",
    "        # Pop the first node from the queue and chose that node as the current node of this iteration.\n",
    "        node = queue.pop(0)\n",
    "        if node not in visited:\n",
    "            visited.append(node)\n",
    "            neighbours = graph[node]  # Use neighbors to represent the node's directly connected nodes.\n",
    "\n",
    "            # Now, add the node's neighbours one by one to the queue.\n",
    "            for neighbour in neighbours:\n",
    "                queue.append(neighbour)\n",
    "\n",
    "    return visited\n",
    "\n",
    "\n",
    "bfs(graph=Graph, start=\"Amin\")"
   ]
  },
  {
   "cell_type": "markdown",
   "source": [],
   "metadata": {
    "collapsed": false
   }
  }
 ],
 "metadata": {
  "kernelspec": {
   "display_name": "Python 3",
   "language": "python",
   "name": "python3"
  },
  "language_info": {
   "codemirror_mode": {
    "name": "ipython",
    "version": 2
   },
   "file_extension": ".py",
   "mimetype": "text/x-python",
   "name": "python",
   "nbconvert_exporter": "python",
   "pygments_lexer": "ipython2",
   "version": "2.7.6"
  }
 },
 "nbformat": 4,
 "nbformat_minor": 0
}
