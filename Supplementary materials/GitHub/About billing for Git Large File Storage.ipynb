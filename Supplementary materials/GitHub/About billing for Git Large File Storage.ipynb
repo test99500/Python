{
 "cells": [
  {
   "cell_type": "markdown",
   "metadata": {
    "collapsed": true,
    "pycharm": {
     "name": "#%% md\n"
    }
   },
   "source": [
    "When you downgrade your number of data packs, your change takes effect on your next billing date.\n",
    "For more information, see \"About billing for Git Large File Storage.\"\n",
    "\n",
    "Reference: https://docs.github.com/en/billing/managing-billing-for-git-large-file-storage/downgrading-git-large-file-storage"
   ]
  }
 ],
 "metadata": {
  "kernelspec": {
   "display_name": "Python 3",
   "language": "python",
   "name": "python3"
  },
  "language_info": {
   "codemirror_mode": {
    "name": "ipython",
    "version": 2
   },
   "file_extension": ".py",
   "mimetype": "text/x-python",
   "name": "python",
   "nbconvert_exporter": "python",
   "pygments_lexer": "ipython2",
   "version": "2.7.6"
  }
 },
 "nbformat": 4,
 "nbformat_minor": 0
}