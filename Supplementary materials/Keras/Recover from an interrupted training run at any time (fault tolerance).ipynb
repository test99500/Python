{
 "cells": [
  {
   "cell_type": "markdown",
   "metadata": {
    "collapsed": true,
    "pycharm": {
     "name": "#%% md\n"
    }
   },
   "source": [
    "How can I regularly save Keras models during training?\n",
    "\n",
    "To ensure the ability to recover from an interrupted training run at any time (fault tolerance),\n",
    "you should use a callback that regularly saves your model to disk.\n",
    "\n",
    "You should also set up your code to optionally reload that model at startup.\n",
    "\n",
    "Here's a simple example."
   ]
  },
  {
   "cell_type": "code",
   "source": [
    "import os\n",
    "from tensorflow import keras\n",
    "\n",
    "# Prepare a directory to store all the checkpoints.\n",
    "checkpoint_dir = './ckpt'\n",
    "if not os.path.exists(checkpoint_dir):\n",
    "    os.makedirs(checkpoint_dir)\n",
    "\n",
    "\n",
    "def make_model():\n",
    "\n",
    "    # Create a new linear regression model.\n",
    "    model = keras.Sequential([keras.layers.Dense(1)])\n",
    "    model.compile(optimizer='adam', loss='mse')\n",
    "    return model\n",
    "\n",
    "\n",
    "def make_or_restore_model():\n",
    "\n",
    "    # Either restore the latest model,\n",
    "    checkpoints = [checkpoint_dir + '/' + name\n",
    "                   for name in os.listdir(checkpoint_dir)]\n",
    "    if checkpoints:\n",
    "        latest_checkpoint = max(checkpoints, key=os.path.getctime)\n",
    "        print('Restoring from', latest_checkpoint)\n",
    "        return keras.models.load_model(latest_checkpoint)\n",
    "\n",
    "    # or create a fresh one if there is no checkpoint available.\n",
    "    print('Creating a new model')\n",
    "    return make_model()\n",
    "\n",
    "\n",
    "model = make_or_restore_model()\n",
    "\n",
    "callbacks = [\n",
    "\n",
    "    # We include the training loss in the folder name.\n",
    "    keras.callbacks.ModelCheckpoint(\n",
    "        filepath=checkpoint_dir + '/ckpt-loss={loss:.2f}',\n",
    "        save_freq=100) # This callback saves a SavedModel every 100 batches.\n",
    "]\n",
    "\n",
    "model.fit(train_data, epochs=10, callbacks=callbacks)"
   ],
   "metadata": {
    "collapsed": false,
    "pycharm": {
     "name": "#%%\n"
    }
   },
   "execution_count": null,
   "outputs": []
  },
  {
   "cell_type": "markdown",
   "source": [
    "Reference:\n",
    "https://keras.io/getting_started/faq/#how-can-i-regularly-save-keras-models-during-training"
   ],
   "metadata": {
    "collapsed": false
   }
  }
 ],
 "metadata": {
  "kernelspec": {
   "display_name": "Python 3",
   "language": "python",
   "name": "python3"
  },
  "language_info": {
   "codemirror_mode": {
    "name": "ipython",
    "version": 2
   },
   "file_extension": ".py",
   "mimetype": "text/x-python",
   "name": "python",
   "nbconvert_exporter": "python",
   "pygments_lexer": "ipython2",
   "version": "2.7.6"
  }
 },
 "nbformat": 4,
 "nbformat_minor": 0
}