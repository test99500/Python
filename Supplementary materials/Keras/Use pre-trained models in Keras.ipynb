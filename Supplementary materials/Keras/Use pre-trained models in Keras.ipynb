{
 "cells": [
  {
   "cell_type": "markdown",
   "metadata": {
    "collapsed": true,
    "pycharm": {
     "name": "#%% md\n"
    }
   },
   "source": [
    "You could leverage the models available in keras.applications,\n",
    "or the models available on TensorFlow Hub.\n",
    "\n",
    "TensorFlow Hub is well-integrated with Keras.\n",
    "\n",
    "Reference:\n",
    "https://keras.io/getting_started/faq/#how-can-i-use-pre-trained-models-in-keras"
   ]
  }
 ],
 "metadata": {
  "kernelspec": {
   "display_name": "Python 3",
   "language": "python",
   "name": "python3"
  },
  "language_info": {
   "codemirror_mode": {
    "name": "ipython",
    "version": 2
   },
   "file_extension": ".py",
   "mimetype": "text/x-python",
   "name": "python",
   "nbconvert_exporter": "python",
   "pygments_lexer": "ipython2",
   "version": "2.7.6"
  }
 },
 "nbformat": 4,
 "nbformat_minor": 0
}