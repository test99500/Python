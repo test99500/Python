{
 "cells": [
  {
   "cell_type": "code",
   "execution_count": null,
   "metadata": {
    "collapsed": true
   },
   "outputs": [],
   "source": []
  },
  {
   "cell_type": "markdown",
   "source": [
    "How can I use Keras with datasets that don't fit in memory?\n",
    "\n",
    "You should use the tf.data API to create tf.data.Dataset objects -- an abstraction over a data\n",
    "pipeline that can pull data from local disk, from a distributed filesystem, from GCS, etc.,\n",
    "as well as efficiently apply various data transformations.\n",
    "\n",
    "For instance, the utility tf.keras.preprocessing.image_dataset_from_directory will create a\n",
    "dataset that reads image data from a local directory.\n",
    "Likewise, the utility tf.keras.preprocessing.text_dataset_from_directory will create a dataset\n",
    "that reads text files from a local directory.\n",
    "\n",
    "Dataset objects can be directly passed to fit(), or can be iterated over in a custom low-level\n",
    "training loop."
   ],
   "metadata": {
    "collapsed": false
   }
  },
  {
   "cell_type": "code",
   "execution_count": null,
   "outputs": [],
   "source": [
    "model.fit(dataset, epochs=10, validation_data=val_dataset)"
   ],
   "metadata": {
    "collapsed": false,
    "pycharm": {
     "name": "#%%\n"
    }
   }
  },
  {
   "cell_type": "markdown",
   "source": [
    "Reference:\n",
    "https://keras.io/getting_started/faq/#how-can-i-use-keras-with-datasets-that-dont-fit-in-memory"
   ],
   "metadata": {
    "collapsed": false
   }
  }
 ],
 "metadata": {
  "kernelspec": {
   "display_name": "Python 3",
   "language": "python",
   "name": "python3"
  },
  "language_info": {
   "codemirror_mode": {
    "name": "ipython",
    "version": 2
   },
   "file_extension": ".py",
   "mimetype": "text/x-python",
   "name": "python",
   "nbconvert_exporter": "python",
   "pygments_lexer": "ipython2",
   "version": "2.7.6"
  }
 },
 "nbformat": 4,
 "nbformat_minor": 0
}