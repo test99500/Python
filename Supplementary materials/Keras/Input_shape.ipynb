{
 "cells": [
  {
   "cell_type": "markdown",
   "metadata": {
    "collapsed": true,
    "pycharm": {
     "name": "#%% md\n"
    }
   },
   "source": [
    "A shape tuple (integers), not including the batch size.\n",
    "For instance, shape=(32,) indicates that the expected input will be\n",
    "batches of 32-dimensional vectors.[1]\n",
    "\n",
    "Elements of this tuple can be None;\n",
    "'None' elements represent dimensions where the shape is not known.[1]\n",
    "\n",
    "\n",
    "References:\n",
    "1. https://www.tensorflow.org/api_docs/python/tf/keras/Input"
   ]
  }
 ],
 "metadata": {
  "kernelspec": {
   "display_name": "Python 3",
   "language": "python",
   "name": "python3"
  },
  "language_info": {
   "codemirror_mode": {
    "name": "ipython",
    "version": 2
   },
   "file_extension": ".py",
   "mimetype": "text/x-python",
   "name": "python",
   "nbconvert_exporter": "python",
   "pygments_lexer": "ipython2",
   "version": "2.7.6"
  }
 },
 "nbformat": 4,
 "nbformat_minor": 0
}