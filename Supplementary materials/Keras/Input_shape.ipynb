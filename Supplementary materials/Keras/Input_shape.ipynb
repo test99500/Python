{
 "cells": [
  {
   "cell_type": "markdown",
   "metadata": {
    "collapsed": true,
    "pycharm": {
     "name": "#%% md\n"
    }
   },
   "source": [
    "A shape tuple (integers), not including the batch size.\n",
    "For instance, shape=(32,) indicates that the expected input will be\n",
    "batches of 32-dimensional vectors.[1]\n",
    "\n",
    "Elements of this tuple can be None;\n",
    "'None' elements represent dimensions where the shape is not known.[1]\n",
    "\n",
    "\n",
    "References:\n",
    "1. https://www.tensorflow.org/api_docs/python/tf/keras/Input"
   ]
  },
  {
   "cell_type": "code",
   "execution_count": null,
   "outputs": [],
   "source": [
    "import tensorflow as tf\n",
    "\n",
    "# Create a `Sequential` model and add a Dense layer as the first layer.\n",
    "model = tf.keras.models.Sequential()\n",
    "model.add(tf.keras.Input(shape=(16,)))\n",
    "model.add(tf.keras.layers.Dense(32, activation='relu'))\n",
    "# Now the model will take as input arrays of shape (None, 16)\n",
    "# and output arrays of shape (None, 32).[2]\n",
    "\n",
    "# Note that after the first layer, you don't need to specify\n",
    "# the size of the input anymore:\n",
    "model.add(tf.keras.layers.Dense(32))\n",
    "model.output_shape"
   ],
   "metadata": {
    "collapsed": false,
    "pycharm": {
     "name": "#%%\n"
    }
   }
  },
  {
   "cell_type": "markdown",
   "source": [
    "Input shape:\n",
    "N-D tensor with shape: (batch_size, ..., input_dim).\n",
    "The most common situation would be a 2D input with shape (batch_size, input_dim).\n",
    "\n",
    "Reference:\n",
    "2. https://www.tensorflow.org/api_docs/python/tf/keras/layers/Dense"
   ],
   "metadata": {
    "collapsed": false,
    "pycharm": {
     "name": "#%% md\n"
    }
   }
  }
 ],
 "metadata": {
  "kernelspec": {
   "display_name": "Python 3",
   "language": "python",
   "name": "python3"
  },
  "language_info": {
   "codemirror_mode": {
    "name": "ipython",
    "version": 2
   },
   "file_extension": ".py",
   "mimetype": "text/x-python",
   "name": "python",
   "nbconvert_exporter": "python",
   "pygments_lexer": "ipython2",
   "version": "2.7.6"
  }
 },
 "nbformat": 4,
 "nbformat_minor": 0
}