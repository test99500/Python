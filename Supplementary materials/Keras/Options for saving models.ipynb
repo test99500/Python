{
 "cells": [
  {
   "cell_type": "markdown",
   "metadata": {
    "collapsed": true,
    "pycharm": {
     "name": "#%% md\n"
    }
   },
   "source": [
    "What are my options for saving models?\n",
    "\n",
    "Note: it is not recommended to use pickle or cPickle to save a Keras model.\n",
    "\n",
    "A) Whole-model saving (configuration + weights)\n",
    "\n",
    "Whole-model saving means creating a file that will contain:\n",
    "\n",
    "a. the architecture of the model, allowing to re-create the model.\n",
    "b. the weights of the model\n",
    "c. the training configuration (loss, optimizer)\n",
    "d. the state of the optimizer, allowing to resume training exactly where you left off.\n",
    "\n",
    "In TensorFlow 2.0 and higher, you can just do: model.save(your_file_path, save_format='tf').\n",
    "\n",
    "You can re-instantiate the saved model via model = keras.models.load_model(your_file_path)."
   ]
  },
  {
   "cell_type": "code",
   "execution_count": null,
   "outputs": [],
   "source": [
    "from tensorflow.keras.models import load_model\n",
    "\n",
    "model.save('my_model')  # creates a HDF5 file 'my_model.h5'\n",
    "del model  # deletes the existing model\n",
    "\n",
    "# returns a compiled model\n",
    "# identical to the previous one\n",
    "model = load_model('my_model')"
   ],
   "metadata": {
    "collapsed": false,
    "pycharm": {
     "name": "#%%\n"
    }
   }
  },
  {
   "cell_type": "markdown",
   "source": [
    "Reference:\n",
    "https://keras.io/getting_started/faq/#what-are-my-options-for-saving-models"
   ],
   "metadata": {
    "collapsed": false
   }
  }
 ],
 "metadata": {
  "kernelspec": {
   "display_name": "Python 3",
   "language": "python",
   "name": "python3"
  },
  "language_info": {
   "codemirror_mode": {
    "name": "ipython",
    "version": 2
   },
   "file_extension": ".py",
   "mimetype": "text/x-python",
   "name": "python",
   "nbconvert_exporter": "python",
   "pygments_lexer": "ipython2",
   "version": "2.7.6"
  }
 },
 "nbformat": 4,
 "nbformat_minor": 0
}