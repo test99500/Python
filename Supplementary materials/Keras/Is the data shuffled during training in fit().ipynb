{
 "cells": [
  {
   "cell_type": "markdown",
   "metadata": {
    "collapsed": true,
    "pycharm": {
     "name": "#%% md\n"
    }
   },
   "source": [
    "In fit(), is the data shuffled during training?\n",
    "\n",
    "If you pass your data as NumPy arrays and if the shuffle argument in model.fit() is set to True\n",
    "(which is the default), the training data will be globally randomly shuffled at each epoch.\n",
    "\n",
    "If you pass your data as a tf.data.Dataset object and if the shuffle argument in model.fit()\n",
    "is set ot True, the dataset will be locally shuffled (buffered shuffling).\n",
    "\n",
    "When using tf.data.Dataset objects, prefer shuffling your data beforehand\n",
    "(e.g. by calling dataset = dataset.shuffle(buffer_size)) so as to be in control of the buffer size.\n",
    "\n",
    "Validation data is never shuffled.\n",
    "\n",
    "Reference:\n",
    "https://keras.io/getting_started/faq/#in-fit-is-the-data-shuffled-during-training"
   ]
  }
 ],
 "metadata": {
  "kernelspec": {
   "display_name": "Python 3",
   "language": "python",
   "name": "python3"
  },
  "language_info": {
   "codemirror_mode": {
    "name": "ipython",
    "version": 2
   },
   "file_extension": ".py",
   "mimetype": "text/x-python",
   "name": "python",
   "nbconvert_exporter": "python",
   "pygments_lexer": "ipython2",
   "version": "2.7.6"
  }
 },
 "nbformat": 4,
 "nbformat_minor": 0
}