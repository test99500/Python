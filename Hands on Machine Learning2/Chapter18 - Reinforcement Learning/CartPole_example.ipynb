{
 "cells": [
  {
   "cell_type": "code",
   "execution_count": 1,
   "metadata": {
    "collapsed": true
   },
   "outputs": [
    {
     "name": "stdout",
     "output_type": "stream",
     "text": [
      "[-0.01258566 -0.00156614  0.04207708 -0.00180545]\n"
     ]
    },
    {
     "name": "stderr",
     "output_type": "stream",
     "text": [
      "c:\\program files (x86)\\microsoft visual studio\\shared\\python37_64\\lib\\site-packages\\pyglet\\image\\codecs\\wic.py:289: UserWarning: [WinError -2147417850] Cannot change thread mode after it is set\n",
      "  warnings.warn(str(err))\n"
     ]
    },
    {
     "name": "stdout",
     "output_type": "stream",
     "text": [
      "(400, 600, 3)\n"
     ]
    },
    {
     "data": {
      "text/plain": "<Figure size 360x288 with 1 Axes>",
      "image/png": "[encoded data removed]"
     },
     "metadata": {
      "needs_background": "light"
     },
     "output_type": "display_data"
    },
    {
     "name": "stdout",
     "output_type": "stream",
     "text": [
      "Discrete(2)\n",
      "0.042077083\n",
      "[-0.01261699  0.1929279   0.04204097 -0.28092128] \n",
      " 1.0 \n",
      " False \n",
      " {}\n"
     ]
    }
   ],
   "source": [
    "import gym\n",
    "import matplotlib.pyplot as plt\n",
    "\n",
    "environment = gym.make('CartPole-v1')\n",
    "\n",
    "environment.seed(42)\n",
    "\n",
    "observation = environment.reset()\n",
    "\n",
    "print(observation) # cart's horizontal position, its velocity, the angle of the pole (0 = vertical), and the angular velocity.\n",
    "\n",
    "image = environment.render(mode=\"rgb_array\")\n",
    "print(image.shape)\n",
    "\n",
    "def plot_environment(environment, figsize=(5, 4)):\n",
    "    plt.figure(figsize=figsize)\n",
    "    image = environment.render(mode=\"rgb_array\")\n",
    "    plt.imshow(image)\n",
    "    plt.axis(\"off\")\n",
    "\n",
    "    return image\n",
    "\n",
    "\n",
    "plot_environment(environment)\n",
    "\n",
    "plt.show()\n",
    "\n",
    "print(environment.action_space)\n",
    "\n",
    "print(observation[2])\n",
    "\n",
    "action = 1 # accelerate right\n",
    "observation, reward, done, info = environment.step(action)\n",
    "\n",
    "print(observation, '\\n', reward, '\\n', done, '\\n', info)"
   ]
  },
  {
   "cell_type": "code",
   "execution_count": null,
   "outputs": [],
   "source": [],
   "metadata": {
    "collapsed": false,
    "pycharm": {
     "name": "#%%\n"
    }
   }
  }
 ],
 "metadata": {
  "kernelspec": {
   "display_name": "Python 3",
   "language": "python",
   "name": "python3"
  },
  "language_info": {
   "codemirror_mode": {
    "name": "ipython",
    "version": 2
   },
   "file_extension": ".py",
   "mimetype": "text/x-python",
   "name": "python",
   "nbconvert_exporter": "python",
   "pygments_lexer": "ipython2",
   "version": "2.7.6"
  }
 },
 "nbformat": 4,
 "nbformat_minor": 0
}