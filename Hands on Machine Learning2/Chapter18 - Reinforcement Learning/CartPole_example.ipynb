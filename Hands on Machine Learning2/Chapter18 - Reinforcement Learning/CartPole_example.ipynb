{
 "cells": [
  {
   "cell_type": "code",
   "execution_count": null,
   "metadata": {
    "collapsed": true,
    "pycharm": {
     "is_executing": true
    }
   },
   "outputs": [
    {
     "name": "stdout",
     "output_type": "stream",
     "text": [
      "[-0.01258566 -0.00156614  0.04207708 -0.00180545]\n"
     ]
    }
   ],
   "source": [
    "import gym\n",
    "import matplotlib.animation\n",
    "import matplotlib.pyplot as plt\n",
    "import numpy as np\n",
    "\n",
    "environment = gym.make('CartPole-v1')\n",
    "\n",
    "environment.seed(42)\n",
    "\n",
    "observation = environment.reset()\n",
    "\n",
    "print(observation) # cart's horizontal position, its velocity, the angle of the pole (0 = vertical), and the angular velocity.\n",
    "\n",
    "image = environment.render(mode=\"rgb_array\")\n",
    "print(image.shape)\n",
    "\n",
    "def plot_environment(environment, figsize=(5, 4)):\n",
    "    plt.figure(figsize=figsize)\n",
    "    image = environment.render(mode=\"rgb_array\")\n",
    "    plt.imshow(image)\n",
    "    plt.axis(\"off\")\n",
    "\n",
    "    return image\n",
    "\n",
    "\n",
    "plot_environment(environment)\n",
    "\n",
    "plt.show()\n",
    "\n",
    "print(environment.action_space)\n",
    "\n",
    "print(observation[2])\n",
    "\n",
    "action = 1 # accelerate right\n",
    "observation, reward, done, info = environment.step(action)\n",
    "\n",
    "print(observation, '\\n', reward, '\\n', done, '\\n', info)"
   ]
  },
  {
   "cell_type": "code",
   "execution_count": null,
   "outputs": [],
   "source": [
    "plot_environment(environment)\n",
    "plt.show()"
   ],
   "metadata": {
    "collapsed": false,
    "pycharm": {
     "name": "#%%\n",
     "is_executing": true
    }
   }
  },
  {
   "cell_type": "code",
   "execution_count": null,
   "outputs": [],
   "source": [
    "def basic_policy(observation):\n",
    "    angle = observation[2]\n",
    "\n",
    "    return 0 if angle < 0 else 1\n",
    "\n",
    "\n",
    "totals = []\n",
    "\n",
    "for episode in range(500):\n",
    "    episode_rewards = 0\n",
    "    observation = environment.reset()\n",
    "\n",
    "    for step in range(200):\n",
    "        action = basic_policy(observation)\n",
    "        observation, reward, done, info = environment.step(action)\n",
    "        episode_rewards += reward\n",
    "\n",
    "        if done:\n",
    "            break\n",
    "\n",
    "    totals.append(episode_rewards)\n",
    "\n",
    "\n",
    "print(np.mean(totals), np.std(totals), np.min(totals), np.max(totals))"
   ],
   "metadata": {
    "collapsed": false,
    "pycharm": {
     "name": "#%%\n",
     "is_executing": true
    }
   }
  },
  {
   "cell_type": "code",
   "execution_count": null,
   "outputs": [],
   "source": [
    "# Let's visualize one episode:\n",
    "environment.seed(42)\n",
    "\n",
    "frames = []\n",
    "\n",
    "observation = environment.reset()\n",
    "\n",
    "for step in range(200):\n",
    "    image = environment.render(mode='rgb_array')\n",
    "    frames.append(image)\n",
    "    action = basic_policy(observation)\n",
    "\n",
    "    observation, reward, done, info = environment.step(action)\n",
    "\n",
    "    if done:\n",
    "        break"
   ],
   "metadata": {
    "collapsed": false,
    "pycharm": {
     "name": "#%%\n",
     "is_executing": true
    }
   }
  },
  {
   "cell_type": "markdown",
   "source": [
    "Now show the animation:"
   ],
   "metadata": {
    "collapsed": false
   }
  },
  {
   "cell_type": "code",
   "execution_count": null,
   "outputs": [],
   "source": [
    "def update_scene(num, frames, patch):\n",
    "    patch.set_data(frames[num])\n",
    "    return patch\n",
    "\n",
    "\n",
    "def plot_animation(frames, repeat=False, interval=40):\n",
    "    figure = plt.figure()\n",
    "    patch = plt.imshow(X=frames[0])\n",
    "    plt.axis('off')\n",
    "    animation = matplotlib.animation.FuncAnimation(fig=figure, func=update_scene, frames=len(frames), fargs=(frames, patch), interval=interval, repeat=repeat)\n",
    "\n",
    "    plt.close()\n",
    "    return animation"
   ],
   "metadata": {
    "collapsed": false,
    "pycharm": {
     "name": "#%%\n",
     "is_executing": true
    }
   }
  },
  {
   "cell_type": "code",
   "execution_count": null,
   "outputs": [],
   "source": [
    "plot_animation(frames=frames)"
   ],
   "metadata": {
    "collapsed": false,
    "pycharm": {
     "name": "#%%\n",
     "is_executing": true
    }
   }
  },
  {
   "cell_type": "code",
   "execution_count": null,
   "outputs": [],
   "source": [
    "animation = plot_animation(frames=frames)\n",
    "animation.to_jshtml(fps=30, embed_frames=True, default_mode=None)"
   ],
   "metadata": {
    "collapsed": false,
    "pycharm": {
     "name": "#%%\n",
     "is_executing": true
    }
   }
  }
 ],
 "metadata": {
  "kernelspec": {
   "display_name": "Python 3",
   "language": "python",
   "name": "python3"
  },
  "language_info": {
   "codemirror_mode": {
    "name": "ipython",
    "version": 2
   },
   "file_extension": ".py",
   "mimetype": "text/x-python",
   "name": "python",
   "nbconvert_exporter": "python",
   "pygments_lexer": "ipython2",
   "version": "2.7.6"
  }
 },
 "nbformat": 4,
 "nbformat_minor": 0
}