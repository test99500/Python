{
 "cells": [
  {
   "cell_type": "markdown",
   "metadata": {
    "collapsed": true,
    "pycharm": {
     "name": "#%% md\n"
    }
   },
   "source": [
    "You can create a tensor from NumPy array, and vice versa.\n",
    "You can even apply TensorFlow operations to NumPy arrays and NumPy operations to tensors:"
   ]
  },
  {
   "cell_type": "code",
   "execution_count": 3,
   "outputs": [
    {
     "name": "stdout",
     "output_type": "stream",
     "text": [
      "tf.Tensor([2. 4. 5.], shape=(3,), dtype=float64)\n",
      "[2. 4. 5.]\n",
      "tf.Tensor([ 4. 16. 25.], shape=(3,), dtype=float64)\n"
     ]
    }
   ],
   "source": [
    "import tensorflow as tf\n",
    "import numpy as np\n",
    "\n",
    "a = np.array([2., 4., 5.])\n",
    "\n",
    "tensor1 = tf.constant(a)\n",
    "\n",
    "print(tensor1)\n",
    "\n",
    "tensor2 = tensor1.numpy()\n",
    "\n",
    "print(tensor2)\n",
    "\n",
    "tensor3 = tf.square(a)\n",
    "\n",
    "print(tensor3)"
   ],
   "metadata": {
    "collapsed": false,
    "pycharm": {
     "name": "#%%\n"
    }
   }
  },
  {
   "cell_type": "markdown",
   "source": [
    "NumPy uses 64-bit precision by default, while TensorFlow uses 32-bit using less RAM.\n",
    "So when you create a tensor from a NumPy array, make sure to set dtype=tf.float32"
   ],
   "metadata": {
    "collapsed": false
   }
  },
  {
   "cell_type": "code",
   "execution_count": 4,
   "outputs": [
    {
     "name": "stdout",
     "output_type": "stream",
     "text": [
      "tf.Tensor([1. 2. 3. 4. 5. 6.], shape=(6,), dtype=float32)\n",
      "[1. 2. 3. 4. 5. 6.]\n"
     ]
    }
   ],
   "source": [
    "array1 = np.array([1., 2., 3., 4., 5., 6.])\n",
    "\n",
    "tensor = tf.constant(array1, dtype=tf.float32)\n",
    "\n",
    "print(tensor)\n",
    "\n",
    "print(tensor.numpy())\n"
   ],
   "metadata": {
    "collapsed": false,
    "pycharm": {
     "name": "#%%\n"
    }
   }
  }
 ],
 "metadata": {
  "kernelspec": {
   "display_name": "Python 3",
   "language": "python",
   "name": "python3"
  },
  "language_info": {
   "codemirror_mode": {
    "name": "ipython",
    "version": 2
   },
   "file_extension": ".py",
   "mimetype": "text/x-python",
   "name": "python",
   "nbconvert_exporter": "python",
   "pygments_lexer": "ipython2",
   "version": "2.7.6"
  }
 },
 "nbformat": 4,
 "nbformat_minor": 0
}