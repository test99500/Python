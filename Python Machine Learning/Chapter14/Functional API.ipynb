{
 "cells": [
  {
   "cell_type": "code",
   "execution_count": null,
   "metadata": {
    "collapsed": true,
    "pycharm": {
     "is_executing": true
    }
   },
   "outputs": [],
   "source": [
    "import tensorflow as tf\n",
    "from tensorflow.keras.optimizers import SGD\n",
    "from tensorflow.keras.losses import BinaryCrossentropy\n",
    "from tensorflow.keras.metrics import BinaryAccuracy\n",
    "import numpy as np\n",
    "\n",
    "tf.random.set_seed(1)\n",
    "\n",
    "X = np.random.uniform(low=-1, high=1, size=(200, 2))\n",
    "print(X)\n",
    "\n",
    "y = np.ones(len(X))\n",
    "print(y)\n",
    "\n",
    "# if X0 * X1 <0, y = 0\n",
    "y[X[:,0] * X[:, 1] < 0] = 0\n",
    "\n",
    "X_train = X[:100, :]\n",
    "y_train = y[:100]\n",
    "X_valid = X[100:, :]\n",
    "y_valid = y[100:]\n",
    "\n",
    "# Input layer\n",
    "inputs = tf.keras.Input(shape=(2, ))\n",
    "\n",
    "# Hidden layers\n",
    "hidden1 = tf.keras.layers.Dense(units=4, activation='relu')(inputs)\n",
    "hidden2 = tf.keras.layers.Dense(units=4, activation='relu')(hidden1)\n",
    "hidden3 = tf.keras.layers.Dense(units=4, activation='relu')(hidden2)\n",
    "\n",
    "outputs = tf.keras.layers.Dense(units=1, activation='sigmoid')(hidden3)\n",
    "\n",
    "# Construct a model\n",
    "model = tf.keras.Model(inputs=inputs, outputs=outputs)\n",
    "\n",
    "print(model.summary())\n",
    "\n",
    "# Compile the model\n",
    "model.compile(optimizer=SGD(),\n",
    "              loss=BinaryCrossentropy(),\n",
    "              metrics=[BinaryAccuracy()])\n",
    "\n",
    "# Train the model\n",
    "history = model.fit(x=X_train, y=y_train,\n",
    "                    validation_data=(X_valid, y_valid),\n",
    "                    epochs=200, batch_size=2, verbose=0)\n"
   ]
  }
 ],
 "metadata": {
  "kernelspec": {
   "display_name": "Python 3",
   "language": "python",
   "name": "python3"
  },
  "language_info": {
   "codemirror_mode": {
    "name": "ipython",
    "version": 2
   },
   "file_extension": ".py",
   "mimetype": "text/x-python",
   "name": "python",
   "nbconvert_exporter": "python",
   "pygments_lexer": "ipython2",
   "version": "2.7.6"
  }
 },
 "nbformat": 4,
 "nbformat_minor": 0
}